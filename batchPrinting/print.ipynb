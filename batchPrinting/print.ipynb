{
 "cells": [
  {
   "cell_type": "markdown",
   "id": "4e8a246c",
   "metadata": {},
   "source": [
    "利用Python读取和修改Excel文件（包括xls文件和xlsx文件）——基于xlrd、xlwt和openpyxl模块\n",
    "https://blog.csdn.net/sinat_28576553/article/details/81275650"
   ]
  },
  {
   "cell_type": "code",
   "execution_count": 1,
   "id": "47f54715",
   "metadata": {},
   "outputs": [],
   "source": [
    "import xlrd"
   ]
  }
 ],
 "metadata": {
  "kernelspec": {
   "display_name": "Python 3",
   "language": "python",
   "name": "python3"
  },
  "language_info": {
   "codemirror_mode": {
    "name": "ipython",
    "version": 3
   },
   "file_extension": ".py",
   "mimetype": "text/x-python",
   "name": "python",
   "nbconvert_exporter": "python",
   "pygments_lexer": "ipython3",
   "version": "3.8.8"
  }
 },
 "nbformat": 4,
 "nbformat_minor": 5
}
