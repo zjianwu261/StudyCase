{
 "cells": [
  {
   "cell_type": "markdown",
   "id": "c8805aae",
   "metadata": {},
   "source": [
    "# 通过svm求解"
   ]
  },
  {
   "cell_type": "code",
   "execution_count": 57,
   "id": "90a8c17d",
   "metadata": {},
   "outputs": [],
   "source": [
    "#load the data\n",
    "import pandas as pd\n",
    "path = r'./vibration.xlsx'"
   ]
  },
  {
   "cell_type": "code",
   "execution_count": 58,
   "id": "d034fd8a",
   "metadata": {},
   "outputs": [],
   "source": [
    "data = pd.read_excel(path, sheet_name = 0)"
   ]
  },
  {
   "cell_type": "code",
   "execution_count": 59,
   "id": "26c9235e",
   "metadata": {},
   "outputs": [
    {
     "name": "stdout",
     "output_type": "stream",
     "text": [
      "        1         2         3         4         5         6         7    \\\n",
      "0 -0.018250 -0.016052  0.026337 -0.047333 -0.022949  0.026489 -0.081848   \n",
      "1 -0.043159 -0.009666  0.020389 -0.020183 -0.029152 -0.015995 -0.084207   \n",
      "2 -0.066874 -0.021957 -0.009363 -0.022399 -0.021174 -0.041561 -0.056605   \n",
      "3 -0.055648 -0.037181 -0.041877 -0.037398 -0.001796 -0.046791 -0.015761   \n",
      "4 -0.010082 -0.043942 -0.048847 -0.031188  0.015025 -0.042009  0.015946   \n",
      "\n",
      "        8         9         10   ...       927       928       929       930  \\\n",
      "0 -0.054291 -0.018738 -0.020691  ... -0.015533  0.106720 -0.029907 -0.094269   \n",
      "1 -0.041748 -0.041460 -0.017946  ...  0.054061 -0.045712 -0.084300 -0.065105   \n",
      "2 -0.028097 -0.044517  0.001421  ...  0.124077 -0.167610 -0.084650 -0.066248   \n",
      "3 -0.013195 -0.039062  0.015842  ...  0.129474 -0.155149 -0.052754 -0.013302   \n",
      "4  0.001342 -0.034178 -0.003473  ...  0.076808 -0.024034 -0.014596  0.107894   \n",
      "\n",
      "        931       932       933       934       935       936  \n",
      "0  0.099884 -0.040588 -0.132568 -0.031311 -0.054504 -0.102173  \n",
      "1  0.060169 -0.046244 -0.165500 -0.077527 -0.055313 -0.006859  \n",
      "2  0.016205 -0.018402 -0.081477 -0.085391  0.019586  0.075102  \n",
      "3  0.005400  0.040702  0.070376 -0.065479  0.082279  0.115169  \n",
      "4  0.040877  0.122282  0.156792 -0.010504  0.095267  0.121937  \n",
      "\n",
      "[5 rows x 936 columns] (3600, 936)\n"
     ]
    }
   ],
   "source": [
    "ss = data.head()\n",
    "print(ss,data.shape)"
   ]
  },
  {
   "cell_type": "code",
   "execution_count": 60,
   "id": "55d3a061",
   "metadata": {},
   "outputs": [],
   "source": [
    "data_t = data.T"
   ]
  },
  {
   "cell_type": "code",
   "execution_count": 61,
   "id": "664f09d2",
   "metadata": {},
   "outputs": [
    {
     "name": "stdout",
     "output_type": "stream",
     "text": [
      "       0         1         2         3         4         5         6     \\\n",
      "1 -0.018250 -0.043159 -0.066874 -0.055648 -0.010082  0.032946  0.029622   \n",
      "2 -0.016052 -0.009666 -0.021957 -0.037181 -0.043942 -0.057375 -0.063083   \n",
      "3  0.026337  0.020389 -0.009363 -0.041877 -0.048847 -0.036165 -0.012410   \n",
      "4 -0.047333 -0.020183 -0.022399 -0.037398 -0.031188 -0.019561 -0.032608   \n",
      "5 -0.022949 -0.029152 -0.021174 -0.001796  0.015025  0.017562 -0.007554   \n",
      "\n",
      "       7         8         9     ...      3590      3591      3592      3593  \\\n",
      "1  0.012903  0.010151  0.034355  ...  0.015450  0.036483  0.029148  0.013389   \n",
      "2 -0.061160 -0.070102 -0.083896  ...  0.052209  0.022020 -0.004209 -0.002774   \n",
      "3 -0.010635 -0.016927 -0.025592  ...  0.024936  0.011456  0.043114  0.075205   \n",
      "4 -0.035995 -0.025721 -0.011694  ... -0.021059 -0.034374 -0.021044  0.021595   \n",
      "5 -0.052167 -0.079884 -0.059650  ...  0.046452  0.020358  0.018500  0.025518   \n",
      "\n",
      "       3594      3595      3596      3597      3598      3599  \n",
      "1  0.013547  0.018212  0.034249  0.027439  0.012539 -0.000956  \n",
      "2  0.019865  0.047449  0.065733  0.060402  0.054456  0.046741  \n",
      "3  0.083614  0.063586  0.007687 -0.030183 -0.042688 -0.048767  \n",
      "4  0.059401  0.063825  0.048637  0.018707 -0.007703 -0.019311  \n",
      "5  0.021333 -0.005743 -0.043454 -0.020603  0.019407  0.035786  \n",
      "\n",
      "[5 rows x 3600 columns] (936, 3600)\n"
     ]
    }
   ],
   "source": [
    "print(data_t.head(),data_t.shape)"
   ]
  },
  {
   "cell_type": "code",
   "execution_count": 142,
   "id": "f0cf0283",
   "metadata": {},
   "outputs": [],
   "source": [
    "#PCA降维\n",
    "from sklearn.preprocessing import StandardScaler\n",
    "stds = StandardScaler()\n",
    "X_norm = stds.fit_transform(data_t)\n",
    "#PCA analysis\n",
    "from sklearn.decomposition import PCA\n",
    "pca = PCA(n_components=200)\n",
    "X_pca = pca.fit_transform(X_norm)"
   ]
  },
  {
   "cell_type": "code",
   "execution_count": 143,
   "id": "07a16f7f",
   "metadata": {},
   "outputs": [
    {
     "name": "stdout",
     "output_type": "stream",
     "text": [
      "0.882381654430302\n"
     ]
    }
   ],
   "source": [
    "#calculate the variance ratio of each components\n",
    "var_ratio = pca.explained_variance_ratio_\n",
    "import numpy as np\n",
    "print(np.sum(var_ratio))"
   ]
  },
  {
   "cell_type": "code",
   "execution_count": 144,
   "id": "2ad24386",
   "metadata": {},
   "outputs": [
    {
     "name": "stdout",
     "output_type": "stream",
     "text": [
      "(936, 200) (936, 3600)\n"
     ]
    }
   ],
   "source": [
    "print(X_pca.shape,X_norm.shape)"
   ]
  },
  {
   "cell_type": "code",
   "execution_count": 175,
   "id": "9dff723b",
   "metadata": {},
   "outputs": [
    {
     "name": "stdout",
     "output_type": "stream",
     "text": [
      "[[-16.57464767  -6.90902097  -0.36713981 ...  -0.47372437   1.14047726\n",
      "   -0.57006447]\n",
      " [-17.50440977  -5.72871583  -0.79707763 ...  -0.22156149  -0.85198395\n",
      "   -0.97824947]\n",
      " [ -9.36571706  -8.5690287    2.28599243 ...  -0.77135955  -0.41310475\n",
      "   -1.01777922]\n",
      " ...\n",
      " [-11.75041126  17.15384061  29.8305339  ...   1.48998202  -1.47353011\n",
      "    1.6827464 ]\n",
      " [ -5.36861627  18.20264166  16.85720229 ...  -1.78905005  -0.57480536\n",
      "   -0.77864708]\n",
      " [ -4.01614952  13.06900634  12.9065805  ...   0.374439     1.21772214\n",
      "   -1.45967437]]\n"
     ]
    }
   ],
   "source": [
    "print(X_pca)"
   ]
  },
  {
   "cell_type": "code",
   "execution_count": 145,
   "id": "1d3d7aab",
   "metadata": {},
   "outputs": [],
   "source": [
    "result = []\n",
    "y = []\n",
    "for i in range(104):\n",
    "    y.append(0)\n",
    "for i in range(104):\n",
    "    y.append(1)\n",
    "for i in range(104):\n",
    "    y.append(2)\n",
    "for i in range(104):\n",
    "    y.append(3)\n",
    "for i in range(104):\n",
    "    y.append(4)\n",
    "for i in range(104):\n",
    "    y.append(5)\n",
    "for i in range(104):\n",
    "    y.append(6)\n",
    "for i in range(104):\n",
    "    y.append(7)\n",
    "for i in range(104):\n",
    "    y.append(8)\n",
    "y = np.array(y)"
   ]
  },
  {
   "cell_type": "code",
   "execution_count": 146,
   "id": "8e4a7431",
   "metadata": {},
   "outputs": [
    {
     "name": "stdout",
     "output_type": "stream",
     "text": [
      "[0 0 0 0 0 0 0 0 0 0 0 0 0 0 0 0 0 0 0 0 0 0 0 0 0 0 0 0 0 0 0 0 0 0 0 0 0\n",
      " 0 0 0 0 0 0 0 0 0 0 0 0 0 0 0 0 0 0 0 0 0 0 0 0 0 0 0 0 0 0 0 0 0 0 0 0 0\n",
      " 0 0 0 0 0 0 0 0 0 0 0 0 0 0 0 0 0 0 0 0 0 0 0 0 0 0 0 0 0 0 1 1 1 1 1 1 1\n",
      " 1 1 1 1 1 1 1 1 1 1 1 1 1 1 1 1 1 1 1 1 1 1 1 1 1 1 1 1 1 1 1 1 1 1 1 1 1\n",
      " 1 1 1 1 1 1 1 1 1 1 1 1 1 1 1 1 1 1 1 1 1 1 1 1 1 1 1 1 1 1 1 1 1 1 1 1 1\n",
      " 1 1 1 1 1 1 1 1 1 1 1 1 1 1 1 1 1 1 1 1 1 1 1 2 2 2 2 2 2 2 2 2 2 2 2 2 2\n",
      " 2 2 2 2 2 2 2 2 2 2 2 2 2 2 2 2 2 2 2 2 2 2 2 2 2 2 2 2 2 2 2 2 2 2 2 2 2\n",
      " 2 2 2 2 2 2 2 2 2 2 2 2 2 2 2 2 2 2 2 2 2 2 2 2 2 2 2 2 2 2 2 2 2 2 2 2 2\n",
      " 2 2 2 2 2 2 2 2 2 2 2 2 2 2 2 2 3 3 3 3 3 3 3 3 3 3 3 3 3 3 3 3 3 3 3 3 3\n",
      " 3 3 3 3 3 3 3 3 3 3 3 3 3 3 3 3 3 3 3 3 3 3 3 3 3 3 3 3 3 3 3 3 3 3 3 3 3\n",
      " 3 3 3 3 3 3 3 3 3 3 3 3 3 3 3 3 3 3 3 3 3 3 3 3 3 3 3 3 3 3 3 3 3 3 3 3 3\n",
      " 3 3 3 3 3 3 3 3 3 4 4 4 4 4 4 4 4 4 4 4 4 4 4 4 4 4 4 4 4 4 4 4 4 4 4 4 4\n",
      " 4 4 4 4 4 4 4 4 4 4 4 4 4 4 4 4 4 4 4 4 4 4 4 4 4 4 4 4 4 4 4 4 4 4 4 4 4\n",
      " 4 4 4 4 4 4 4 4 4 4 4 4 4 4 4 4 4 4 4 4 4 4 4 4 4 4 4 4 4 4 4 4 4 4 4 4 4\n",
      " 4 4 5 5 5 5 5 5 5 5 5 5 5 5 5 5 5 5 5 5 5 5 5 5 5 5 5 5 5 5 5 5 5 5 5 5 5\n",
      " 5 5 5 5 5 5 5 5 5 5 5 5 5 5 5 5 5 5 5 5 5 5 5 5 5 5 5 5 5 5 5 5 5 5 5 5 5\n",
      " 5 5 5 5 5 5 5 5 5 5 5 5 5 5 5 5 5 5 5 5 5 5 5 5 5 5 5 5 5 5 5 5 6 6 6 6 6\n",
      " 6 6 6 6 6 6 6 6 6 6 6 6 6 6 6 6 6 6 6 6 6 6 6 6 6 6 6 6 6 6 6 6 6 6 6 6 6\n",
      " 6 6 6 6 6 6 6 6 6 6 6 6 6 6 6 6 6 6 6 6 6 6 6 6 6 6 6 6 6 6 6 6 6 6 6 6 6\n",
      " 6 6 6 6 6 6 6 6 6 6 6 6 6 6 6 6 6 6 6 6 6 6 6 6 6 7 7 7 7 7 7 7 7 7 7 7 7\n",
      " 7 7 7 7 7 7 7 7 7 7 7 7 7 7 7 7 7 7 7 7 7 7 7 7 7 7 7 7 7 7 7 7 7 7 7 7 7\n",
      " 7 7 7 7 7 7 7 7 7 7 7 7 7 7 7 7 7 7 7 7 7 7 7 7 7 7 7 7 7 7 7 7 7 7 7 7 7\n",
      " 7 7 7 7 7 7 7 7 7 7 7 7 7 7 7 7 7 7 8 8 8 8 8 8 8 8 8 8 8 8 8 8 8 8 8 8 8\n",
      " 8 8 8 8 8 8 8 8 8 8 8 8 8 8 8 8 8 8 8 8 8 8 8 8 8 8 8 8 8 8 8 8 8 8 8 8 8\n",
      " 8 8 8 8 8 8 8 8 8 8 8 8 8 8 8 8 8 8 8 8 8 8 8 8 8 8 8 8 8 8 8 8 8 8 8 8 8\n",
      " 8 8 8 8 8 8 8 8 8 8 8]\n"
     ]
    }
   ],
   "source": [
    "print(y)"
   ]
  },
  {
   "cell_type": "code",
   "execution_count": 147,
   "id": "3c7f8462",
   "metadata": {},
   "outputs": [],
   "source": [
    "# 训练集和测试集\n",
    "from sklearn.model_selection import train_test_split\n",
    "X_train, X_test, y_train, y_test = train_test_split(X_pca, y, test_size=0.3, shuffle=True) "
   ]
  },
  {
   "cell_type": "code",
   "execution_count": 148,
   "id": "4588bb0d",
   "metadata": {},
   "outputs": [
    {
     "name": "stdout",
     "output_type": "stream",
     "text": [
      "(655, 200) (281, 200)\n"
     ]
    }
   ],
   "source": [
    "print(X_train.shape,X_test.shape)"
   ]
  },
  {
   "cell_type": "code",
   "execution_count": 149,
   "id": "dd76eceb",
   "metadata": {},
   "outputs": [],
   "source": [
    "# 支持向量机训练\n",
    "from sklearn import svm\n",
    "clf = svm.SVC(kernel='linear') \n",
    "model = clf.fit(X_train,y_train)"
   ]
  },
  {
   "cell_type": "code",
   "execution_count": 150,
   "id": "cceb172c",
   "metadata": {
    "scrolled": true
   },
   "outputs": [
    {
     "name": "stdout",
     "output_type": "stream",
     "text": [
      "[8 0 5 0 6 2 6 6 4 3 6 0 0 0 2 7 8 8 3 0 0 3 7 2 1 2 1 0 5 0 2 3 0 7 2 5 4\n",
      " 7 7 8 4 8 3 5 5 0 1 6 3 6 8 8 2 5 3 1 3 6 7 4 7 8 2 1 4 2 4 6 4 5 1 2 4 0\n",
      " 8 6 5 2 2 3 5 5 6 7 2 2 0 3 7 5 0 6 3 4 0 3 5 0 5 7 5 8 8 8 0 8 1 6 4 8 1\n",
      " 5 0 6 8 2 5 7 4 2 8 6 2 2 1 1 8 8 8 3 3 3 7 3 6 8 2 6 2 7 5 7 2 8 5 8 0 6\n",
      " 6 4 8 0 3 8 3 2 0 6 7 0 4 4 3 6 5 3 3 2 0 5 2 4 5 8 7 1 4 5 5 0 6 8 3 0 0\n",
      " 4 3 5 7 8 8 7 6 5 5 3 5 4 6 0 4 1 4 6 6 5 3 0 0 7 3 7 8 2 1 4 2 1 0 4 3 5\n",
      " 1 5 7 7 1 1 6 6 2 8 0 7 6 4 8 1 1 5 4 2 1 5 5 3 5 0 4 0 8 5 4 3 7 8 7 2 8\n",
      " 1 0 7 0 4 0 6 0 2 8 5 4 5 7 5 8 1 0 0 4 8 7 2 5 4 1 2 6 3 7 6 5 6 1 4 7 4\n",
      " 7 5 5 8 1 8 0 1 7 8 8 7 6 0 1 3 5 8 4 1 0 5 0 5 0 7 4 3 7 0 7 2 5 3 1 6 5\n",
      " 5 5 1 6 7 2 4 1 0 6 1 4 0 3 4 3 5 7 4 7 3 7 4 3 1 6 5 8 0 5 1 0 5 2 1 7 2\n",
      " 2 5 6 6 0 6 4 6 5 2 8 0 4 4 0 2 6 5 7 0 0 4 6 2 2 7 3 5 4 3 8 7 1 6 4 4 7\n",
      " 6 4 3 1 3 6 2 8 5 5 8 8 6 3 8 3 1 4 8 0 0 7 7 3 1 8 4 6 4 0 5 8 8 2 0 2 6\n",
      " 1 5 1 4 5 1 5 6 2 6 3 5 3 7 5 8 7 0 6 4 8 8 5 1 1 8 8 8 1 1 3 8 2 3 2 6 1\n",
      " 2 7 1 8 0 4 2 7 2 0 8 3 7 7 8 8 7 5 5 3 2 6 1 3 6 4 3 3 7 2 4 3 7 2 6 6 2\n",
      " 7 7 8 4 5 8 1 3 2 1 0 6 5 8 2 5 7 1 1 7 7 1 6 3 7 6 0 7 6 6 7 3 6 3 7 7 0\n",
      " 2 2 2 4 0 6 7 4 5 0 7 4 2 3 3 0 3 7 1 0 3 2 1 2 7 0 0 5 4 1 3 5 0 2 1 4 7\n",
      " 0 1 3 6 4 1 7 5 6 5 7 4 3 6 2 8 4 3 7 3 1 1 4 7 8 1 6 1 5 0 6 3 7 6 2 4 2\n",
      " 0 5 3 5 4 5 6 6 1 2 8 6 1 5 2 3 7 7 8 8 5 1 0 6 3 5]\n"
     ]
    }
   ],
   "source": [
    "# 训练集预测\n",
    "y_train_predict = model.predict(X_train)\n",
    "print(y_train_predict)"
   ]
  },
  {
   "cell_type": "code",
   "execution_count": 151,
   "id": "f2df88e8",
   "metadata": {},
   "outputs": [
    {
     "name": "stdout",
     "output_type": "stream",
     "text": [
      "1.0\n"
     ]
    }
   ],
   "source": [
    "from sklearn.metrics import accuracy_score\n",
    "accuracy_train = accuracy_score(y_train,y_train_predict)\n",
    "print(accuracy_train)"
   ]
  },
  {
   "cell_type": "code",
   "execution_count": 152,
   "id": "4f7c6bfc",
   "metadata": {},
   "outputs": [
    {
     "name": "stdout",
     "output_type": "stream",
     "text": [
      "0.9750889679715302\n"
     ]
    }
   ],
   "source": [
    "# 测试集预测\n",
    "y_test_predict = model.predict(X_test)\n",
    "accuracy_test = accuracy_score(y_test,y_test_predict)\n",
    "print(accuracy_test)"
   ]
  },
  {
   "cell_type": "code",
   "execution_count": 153,
   "id": "ce72315d",
   "metadata": {},
   "outputs": [
    {
     "name": "stdout",
     "output_type": "stream",
     "text": [
      "[[ -5.34802991  19.03229869  10.16840632 ...  -2.44186165   1.2556204\n",
      "    0.27181359]\n",
      " [-20.17391918   1.41460759  -6.34266023 ...  -0.50372737   0.13340113\n",
      "   -1.07503227]\n",
      " [-22.73891714  -2.92853781  -9.33003472 ...  -0.76331212   1.24942702\n",
      "    0.90521405]\n",
      " ...\n",
      " [ 20.21451271  -5.6701503   -2.15899622 ...  -1.15232116   0.45735983\n",
      "    2.47354432]\n",
      " [ 18.66204178  -4.71549691   4.63063802 ...  -1.3524679    1.72685811\n",
      "   -0.93442383]\n",
      " [-22.17283501  -8.19248358  -6.79665647 ...   1.33195265   0.84096684\n",
      "   -0.17122655]] (655, 200)\n"
     ]
    }
   ],
   "source": [
    "print(X_train,X_train.shape)"
   ]
  },
  {
   "cell_type": "code",
   "execution_count": 154,
   "id": "209f132e",
   "metadata": {},
   "outputs": [],
   "source": [
    "# visulize the data\n"
   ]
  },
  {
   "cell_type": "markdown",
   "id": "c4bc4ef5",
   "metadata": {},
   "source": [
    "# 通过决策树模型求解"
   ]
  },
  {
   "cell_type": "code",
   "execution_count": 163,
   "id": "5f191cc1",
   "metadata": {},
   "outputs": [
    {
     "data": {
      "text/plain": [
       "DecisionTreeClassifier(criterion='entropy', min_samples_leaf=2)"
      ]
     },
     "execution_count": 163,
     "metadata": {},
     "output_type": "execute_result"
    }
   ],
   "source": [
    "# establish the decision tree model\n",
    "\n",
    "from sklearn import tree\n",
    "dc_tree = tree.DecisionTreeClassifier(criterion='entropy',min_samples_leaf=2)\n",
    "dc_tree.fit(X_train,y_train)"
   ]
  },
  {
   "cell_type": "code",
   "execution_count": 164,
   "id": "f5c55e9e",
   "metadata": {},
   "outputs": [
    {
     "name": "stdout",
     "output_type": "stream",
     "text": [
      "0.9786259541984733\n"
     ]
    }
   ],
   "source": [
    "#evaluate the model\n",
    "y_predict_train_dc = dc_tree.predict(X_train)\n",
    "from sklearn.metrics import accuracy_score\n",
    "accuracy = accuracy_score(y_train,y_predict_train_dc)\n",
    "print(accuracy)"
   ]
  },
  {
   "cell_type": "code",
   "execution_count": 165,
   "id": "b625d386",
   "metadata": {},
   "outputs": [
    {
     "name": "stdout",
     "output_type": "stream",
     "text": [
      "0.8185053380782918\n"
     ]
    }
   ],
   "source": [
    "y_predict_test_dc = dc_tree.predict(X_test)\n",
    "accuracy_test = accuracy_score(y_test,y_predict_test_dc)\n",
    "print(accuracy_test)"
   ]
  },
  {
   "cell_type": "markdown",
   "id": "841599ed",
   "metadata": {},
   "source": [
    "# 多层感知机"
   ]
  },
  {
   "cell_type": "code",
   "execution_count": 167,
   "id": "2b9b649e",
   "metadata": {},
   "outputs": [
    {
     "name": "stdout",
     "output_type": "stream",
     "text": [
      "(655, 200) (655,)\n"
     ]
    }
   ],
   "source": [
    "print(X_train.shape,y_train.shape)"
   ]
  },
  {
   "cell_type": "code",
   "execution_count": 172,
   "id": "2587512f",
   "metadata": {},
   "outputs": [
    {
     "name": "stdout",
     "output_type": "stream",
     "text": [
      "[[ -5.34802991  19.03229869  10.16840632 ...  -2.44186165   1.2556204\n",
      "    0.27181359]\n",
      " [-20.17391918   1.41460759  -6.34266023 ...  -0.50372737   0.13340113\n",
      "   -1.07503227]\n",
      " [-22.73891714  -2.92853781  -9.33003472 ...  -0.76331212   1.24942702\n",
      "    0.90521405]\n",
      " ...\n",
      " [ 20.21451271  -5.6701503   -2.15899622 ...  -1.15232116   0.45735983\n",
      "    2.47354432]\n",
      " [ 18.66204178  -4.71549691   4.63063802 ...  -1.3524679    1.72685811\n",
      "   -0.93442383]\n",
      " [-22.17283501  -8.19248358  -6.79665647 ...   1.33195265   0.84096684\n",
      "   -0.17122655]] (655, 200)\n"
     ]
    }
   ],
   "source": [
    "print(X_train,X_train.shape)"
   ]
  },
  {
   "cell_type": "code",
   "execution_count": 174,
   "id": "960b2f93",
   "metadata": {},
   "outputs": [
    {
     "name": "stdout",
     "output_type": "stream",
     "text": [
      "57.5280032286524\n"
     ]
    }
   ],
   "source": [
    "max = X_train.max()\n",
    "print(max)"
   ]
  },
  {
   "cell_type": "code",
   "execution_count": 177,
   "id": "80639360",
   "metadata": {
    "scrolled": true
   },
   "outputs": [
    {
     "name": "stdout",
     "output_type": "stream",
     "text": [
      "[[-0.09296394  0.33083538  0.17675577 ... -0.04244649  0.02182625\n",
      "   0.00472489]\n",
      " [-0.35067998  0.0245899  -0.11025344 ... -0.00875621  0.00231889\n",
      "  -0.01868711]\n",
      " [-0.39526693 -0.0509063  -0.16218249 ... -0.01326853  0.02171859\n",
      "   0.01573519]\n",
      " ...\n",
      " [ 0.35138561 -0.09856331 -0.03752948 ... -0.02003061  0.00795021\n",
      "   0.04299722]\n",
      " [ 0.32439926 -0.08196872  0.08049363 ... -0.02350973  0.0300177\n",
      "  -0.01624294]\n",
      " [-0.38542681 -0.14240862 -0.11814518 ...  0.02315312  0.01461839\n",
      "  -0.0029764 ]]\n"
     ]
    }
   ],
   "source": [
    "#normalize the input data\n",
    "X_train_normal = X_train/max\n",
    "X_test_normal = X_test/max\n",
    "print(X_train_normal)"
   ]
  },
  {
   "cell_type": "code",
   "execution_count": 179,
   "id": "34c9933a",
   "metadata": {},
   "outputs": [
    {
     "name": "stderr",
     "output_type": "stream",
     "text": [
      "Using TensorFlow backend.\n"
     ]
    },
    {
     "name": "stdout",
     "output_type": "stream",
     "text": [
      "[0. 0. 0. 0. 0. 0. 0. 0. 1.]\n"
     ]
    }
   ],
   "source": [
    "#format the output data(labels)\n",
    "from keras.utils import to_categorical\n",
    "y_train_format = to_categorical(y_train)\n",
    "y_test_format = to_categorical(y_test)\n",
    "print(y_train_format[0])"
   ]
  },
  {
   "cell_type": "code",
   "execution_count": 180,
   "id": "fe6c1149",
   "metadata": {},
   "outputs": [
    {
     "name": "stdout",
     "output_type": "stream",
     "text": [
      "(655, 200) (655, 9)\n"
     ]
    }
   ],
   "source": [
    "print(X_train_normal.shape,y_train_format.shape)"
   ]
  },
  {
   "cell_type": "code",
   "execution_count": 185,
   "id": "d4df2e1a",
   "metadata": {},
   "outputs": [
    {
     "name": "stdout",
     "output_type": "stream",
     "text": [
      "Model: \"sequential_2\"\n",
      "_________________________________________________________________\n",
      "Layer (type)                 Output Shape              Param #   \n",
      "=================================================================\n",
      "dense_4 (Dense)              (None, 392)               78792     \n",
      "_________________________________________________________________\n",
      "dense_5 (Dense)              (None, 392)               154056    \n",
      "_________________________________________________________________\n",
      "dense_6 (Dense)              (None, 9)                 3537      \n",
      "=================================================================\n",
      "Total params: 236,385\n",
      "Trainable params: 236,385\n",
      "Non-trainable params: 0\n",
      "_________________________________________________________________\n"
     ]
    }
   ],
   "source": [
    "#set up the model\n",
    "from keras.models import Sequential\n",
    "from keras.layers import Dense, Activation\n",
    "\n",
    "mlp = Sequential()\n",
    "mlp.add(Dense(units=392,activation='relu',input_dim=200))\n",
    "mlp.add(Dense(units=392,activation='relu'))\n",
    "mlp.add(Dense(units=9,activation='softmax'))\n",
    "mlp.summary()"
   ]
  },
  {
   "cell_type": "code",
   "execution_count": 186,
   "id": "b442922d",
   "metadata": {},
   "outputs": [],
   "source": [
    "#configure the model\n",
    "mlp.compile(loss='categorical_crossentropy',optimizer='adam',metrics=['categorical_accuracy'])"
   ]
  },
  {
   "cell_type": "code",
   "execution_count": 187,
   "id": "fb0d0308",
   "metadata": {},
   "outputs": [
    {
     "name": "stdout",
     "output_type": "stream",
     "text": [
      "Epoch 1/9\n",
      "655/655 [==============================] - 1s 1ms/step - loss: 1.9951 - categorical_accuracy: 0.3511\n",
      "Epoch 2/9\n",
      "655/655 [==============================] - 0s 194us/step - loss: 1.1990 - categorical_accuracy: 0.8397\n",
      "Epoch 3/9\n",
      "655/655 [==============================] - 0s 196us/step - loss: 0.3327 - categorical_accuracy: 0.9939\n",
      "Epoch 4/9\n",
      "655/655 [==============================] - 0s 201us/step - loss: 0.0692 - categorical_accuracy: 0.9969\n",
      "Epoch 5/9\n",
      "655/655 [==============================] - 0s 196us/step - loss: 0.0243 - categorical_accuracy: 0.9985\n",
      "Epoch 6/9\n",
      "655/655 [==============================] - 0s 196us/step - loss: 0.0146 - categorical_accuracy: 1.0000\n",
      "Epoch 7/9\n",
      "655/655 [==============================] - 0s 199us/step - loss: 0.0087 - categorical_accuracy: 1.0000\n",
      "Epoch 8/9\n",
      "655/655 [==============================] - 0s 199us/step - loss: 0.0064 - categorical_accuracy: 1.0000\n",
      "Epoch 9/9\n",
      "655/655 [==============================] - 0s 198us/step - loss: 0.0049 - categorical_accuracy: 1.0000\n"
     ]
    },
    {
     "data": {
      "text/plain": [
       "<keras.callbacks.callbacks.History at 0x7fe2da868dd0>"
      ]
     },
     "execution_count": 187,
     "metadata": {},
     "output_type": "execute_result"
    }
   ],
   "source": [
    "#train the model\n",
    "mlp.fit(X_train_normal,y_train_format,epochs=9)"
   ]
  },
  {
   "cell_type": "code",
   "execution_count": 188,
   "id": "63b6d387",
   "metadata": {},
   "outputs": [
    {
     "name": "stdout",
     "output_type": "stream",
     "text": [
      "<class 'numpy.ndarray'>\n"
     ]
    }
   ],
   "source": [
    "#evaluate the model\n",
    "y_train_predict = mlp.predict_classes(X_train_normal)\n",
    "print(type(y_train_predict))"
   ]
  },
  {
   "cell_type": "code",
   "execution_count": 189,
   "id": "a34c3042",
   "metadata": {},
   "outputs": [
    {
     "name": "stdout",
     "output_type": "stream",
     "text": [
      "1.0\n"
     ]
    }
   ],
   "source": [
    "from sklearn.metrics import accuracy_score\n",
    "accuracy_train = accuracy_score(y_train,y_train_predict)\n",
    "print(accuracy_train)"
   ]
  },
  {
   "cell_type": "code",
   "execution_count": 190,
   "id": "791e513d",
   "metadata": {},
   "outputs": [
    {
     "name": "stdout",
     "output_type": "stream",
     "text": [
      "0.9857651245551602\n"
     ]
    }
   ],
   "source": [
    "y_test_predict = mlp.predict_classes(X_test_normal)\n",
    "accuracy_test = accuracy_score(y_test,y_test_predict)\n",
    "print(accuracy_test)"
   ]
  },
  {
   "cell_type": "markdown",
   "id": "fed02143",
   "metadata": {},
   "source": [
    "# 卷积神经网络"
   ]
  },
  {
   "cell_type": "code",
   "execution_count": 199,
   "id": "a7b99a00",
   "metadata": {},
   "outputs": [],
   "source": [
    "#set up the cnn model\n",
    "from keras.models import Sequential\n",
    "from keras.layers import Conv2D, MaxPool2D, Flatten, Dense"
   ]
  },
  {
   "cell_type": "code",
   "execution_count": 200,
   "id": "33ca36f4",
   "metadata": {},
   "outputs": [
    {
     "name": "stdout",
     "output_type": "stream",
     "text": [
      "(655, 8, 25)\n"
     ]
    }
   ],
   "source": [
    "X_train_rs = X_train.reshape(655,8,25)\n",
    "print(X_train_rs.shape)"
   ]
  },
  {
   "cell_type": "code",
   "execution_count": null,
   "id": "86173755",
   "metadata": {},
   "outputs": [],
   "source": []
  },
  {
   "cell_type": "code",
   "execution_count": null,
   "id": "97f0a1cb",
   "metadata": {},
   "outputs": [],
   "source": []
  },
  {
   "cell_type": "code",
   "execution_count": null,
   "id": "ddac3de2",
   "metadata": {},
   "outputs": [],
   "source": []
  },
  {
   "cell_type": "code",
   "execution_count": null,
   "id": "65f451cd",
   "metadata": {},
   "outputs": [],
   "source": []
  },
  {
   "cell_type": "code",
   "execution_count": null,
   "id": "eb8a6435",
   "metadata": {},
   "outputs": [],
   "source": []
  },
  {
   "cell_type": "code",
   "execution_count": null,
   "id": "e09ea2ef",
   "metadata": {},
   "outputs": [],
   "source": []
  },
  {
   "cell_type": "code",
   "execution_count": null,
   "id": "55447a65",
   "metadata": {},
   "outputs": [],
   "source": []
  },
  {
   "cell_type": "code",
   "execution_count": null,
   "id": "081a7075",
   "metadata": {},
   "outputs": [],
   "source": []
  },
  {
   "cell_type": "code",
   "execution_count": null,
   "id": "a5ece4b9",
   "metadata": {},
   "outputs": [],
   "source": []
  },
  {
   "cell_type": "code",
   "execution_count": null,
   "id": "40121608",
   "metadata": {},
   "outputs": [],
   "source": []
  },
  {
   "cell_type": "code",
   "execution_count": null,
   "id": "28c49a23",
   "metadata": {},
   "outputs": [],
   "source": []
  },
  {
   "cell_type": "code",
   "execution_count": null,
   "id": "88ff4660",
   "metadata": {},
   "outputs": [],
   "source": []
  },
  {
   "cell_type": "markdown",
   "id": "4624b801",
   "metadata": {},
   "source": [
    "# 迁移学习"
   ]
  },
  {
   "cell_type": "code",
   "execution_count": 192,
   "id": "2ae72f87",
   "metadata": {},
   "outputs": [],
   "source": [
    "from keras.applications.vgg16 import VGG16\n",
    "from keras.applications.vgg16 import preprocess_input\n",
    "model_vgg = VGG16(weights='imagenet',include_top=False)"
   ]
  },
  {
   "cell_type": "code",
   "execution_count": 196,
   "id": "a98abf83",
   "metadata": {},
   "outputs": [
    {
     "name": "stdout",
     "output_type": "stream",
     "text": [
      "(655, 8, 25, 1)\n"
     ]
    }
   ],
   "source": [
    "X_train_rs = X_train.reshape(655,8,25,1)\n",
    "print(X_train_rs.shape)"
   ]
  },
  {
   "cell_type": "code",
   "execution_count": 198,
   "id": "d9945408",
   "metadata": {},
   "outputs": [
    {
     "ename": "ValueError",
     "evalue": "Error when checking input: expected input_1 to have shape (None, None, 3) but got array with shape (8, 25, 1)",
     "output_type": "error",
     "traceback": [
      "\u001b[0;31m---------------------------------------------------------------------------\u001b[0m",
      "\u001b[0;31mValueError\u001b[0m                                Traceback (most recent call last)",
      "\u001b[0;32m/var/folders/9y/tb38wdxj31gbntkhlnyfch980000gn/T/ipykernel_17707/1574529832.py\u001b[0m in \u001b[0;36m<module>\u001b[0;34m\u001b[0m\n\u001b[0;32m----> 1\u001b[0;31m \u001b[0mfeatures\u001b[0m \u001b[0;34m=\u001b[0m \u001b[0mmodel_vgg\u001b[0m\u001b[0;34m.\u001b[0m\u001b[0mpredict\u001b[0m\u001b[0;34m(\u001b[0m\u001b[0mX_train_rs\u001b[0m\u001b[0;34m)\u001b[0m\u001b[0;34m\u001b[0m\u001b[0;34m\u001b[0m\u001b[0m\n\u001b[0m\u001b[1;32m      2\u001b[0m \u001b[0mprint\u001b[0m\u001b[0;34m(\u001b[0m\u001b[0mfeatures\u001b[0m\u001b[0;34m.\u001b[0m\u001b[0mshape\u001b[0m\u001b[0;34m)\u001b[0m\u001b[0;34m\u001b[0m\u001b[0;34m\u001b[0m\u001b[0m\n",
      "\u001b[0;32m~/opt/anaconda3/envs/Tensorflow/lib/python3.7/site-packages/keras/engine/training.py\u001b[0m in \u001b[0;36mpredict\u001b[0;34m(self, x, batch_size, verbose, steps, callbacks, max_queue_size, workers, use_multiprocessing)\u001b[0m\n\u001b[1;32m   1439\u001b[0m \u001b[0;34m\u001b[0m\u001b[0m\n\u001b[1;32m   1440\u001b[0m         \u001b[0;31m# Case 2: Symbolic tensors or Numpy array-like.\u001b[0m\u001b[0;34m\u001b[0m\u001b[0;34m\u001b[0m\u001b[0;34m\u001b[0m\u001b[0m\n\u001b[0;32m-> 1441\u001b[0;31m         \u001b[0mx\u001b[0m\u001b[0;34m,\u001b[0m \u001b[0m_\u001b[0m\u001b[0;34m,\u001b[0m \u001b[0m_\u001b[0m \u001b[0;34m=\u001b[0m \u001b[0mself\u001b[0m\u001b[0;34m.\u001b[0m\u001b[0m_standardize_user_data\u001b[0m\u001b[0;34m(\u001b[0m\u001b[0mx\u001b[0m\u001b[0;34m)\u001b[0m\u001b[0;34m\u001b[0m\u001b[0;34m\u001b[0m\u001b[0m\n\u001b[0m\u001b[1;32m   1442\u001b[0m         \u001b[0;32mif\u001b[0m \u001b[0mself\u001b[0m\u001b[0;34m.\u001b[0m\u001b[0mstateful\u001b[0m\u001b[0;34m:\u001b[0m\u001b[0;34m\u001b[0m\u001b[0;34m\u001b[0m\u001b[0m\n\u001b[1;32m   1443\u001b[0m             \u001b[0;32mif\u001b[0m \u001b[0mx\u001b[0m\u001b[0;34m[\u001b[0m\u001b[0;36m0\u001b[0m\u001b[0;34m]\u001b[0m\u001b[0;34m.\u001b[0m\u001b[0mshape\u001b[0m\u001b[0;34m[\u001b[0m\u001b[0;36m0\u001b[0m\u001b[0;34m]\u001b[0m \u001b[0;34m>\u001b[0m \u001b[0mbatch_size\u001b[0m \u001b[0;32mand\u001b[0m \u001b[0mx\u001b[0m\u001b[0;34m[\u001b[0m\u001b[0;36m0\u001b[0m\u001b[0;34m]\u001b[0m\u001b[0;34m.\u001b[0m\u001b[0mshape\u001b[0m\u001b[0;34m[\u001b[0m\u001b[0;36m0\u001b[0m\u001b[0;34m]\u001b[0m \u001b[0;34m%\u001b[0m \u001b[0mbatch_size\u001b[0m \u001b[0;34m!=\u001b[0m \u001b[0;36m0\u001b[0m\u001b[0;34m:\u001b[0m\u001b[0;34m\u001b[0m\u001b[0;34m\u001b[0m\u001b[0m\n",
      "\u001b[0;32m~/opt/anaconda3/envs/Tensorflow/lib/python3.7/site-packages/keras/engine/training.py\u001b[0m in \u001b[0;36m_standardize_user_data\u001b[0;34m(self, x, y, sample_weight, class_weight, check_array_lengths, batch_size)\u001b[0m\n\u001b[1;32m    577\u001b[0m             \u001b[0mfeed_input_shapes\u001b[0m\u001b[0;34m,\u001b[0m\u001b[0;34m\u001b[0m\u001b[0;34m\u001b[0m\u001b[0m\n\u001b[1;32m    578\u001b[0m             \u001b[0mcheck_batch_axis\u001b[0m\u001b[0;34m=\u001b[0m\u001b[0;32mFalse\u001b[0m\u001b[0;34m,\u001b[0m  \u001b[0;31m# Don't enforce the batch size.\u001b[0m\u001b[0;34m\u001b[0m\u001b[0;34m\u001b[0m\u001b[0m\n\u001b[0;32m--> 579\u001b[0;31m             exception_prefix='input')\n\u001b[0m\u001b[1;32m    580\u001b[0m \u001b[0;34m\u001b[0m\u001b[0m\n\u001b[1;32m    581\u001b[0m         \u001b[0;32mif\u001b[0m \u001b[0my\u001b[0m \u001b[0;32mis\u001b[0m \u001b[0;32mnot\u001b[0m \u001b[0;32mNone\u001b[0m\u001b[0;34m:\u001b[0m\u001b[0;34m\u001b[0m\u001b[0;34m\u001b[0m\u001b[0m\n",
      "\u001b[0;32m~/opt/anaconda3/envs/Tensorflow/lib/python3.7/site-packages/keras/engine/training_utils.py\u001b[0m in \u001b[0;36mstandardize_input_data\u001b[0;34m(data, names, shapes, check_batch_axis, exception_prefix)\u001b[0m\n\u001b[1;32m    143\u001b[0m                             \u001b[0;34m': expected '\u001b[0m \u001b[0;34m+\u001b[0m \u001b[0mnames\u001b[0m\u001b[0;34m[\u001b[0m\u001b[0mi\u001b[0m\u001b[0;34m]\u001b[0m \u001b[0;34m+\u001b[0m \u001b[0;34m' to have shape '\u001b[0m \u001b[0;34m+\u001b[0m\u001b[0;34m\u001b[0m\u001b[0;34m\u001b[0m\u001b[0m\n\u001b[1;32m    144\u001b[0m                             \u001b[0mstr\u001b[0m\u001b[0;34m(\u001b[0m\u001b[0mshape\u001b[0m\u001b[0;34m)\u001b[0m \u001b[0;34m+\u001b[0m \u001b[0;34m' but got array with shape '\u001b[0m \u001b[0;34m+\u001b[0m\u001b[0;34m\u001b[0m\u001b[0;34m\u001b[0m\u001b[0m\n\u001b[0;32m--> 145\u001b[0;31m                             str(data_shape))\n\u001b[0m\u001b[1;32m    146\u001b[0m     \u001b[0;32mreturn\u001b[0m \u001b[0mdata\u001b[0m\u001b[0;34m\u001b[0m\u001b[0;34m\u001b[0m\u001b[0m\n\u001b[1;32m    147\u001b[0m \u001b[0;34m\u001b[0m\u001b[0m\n",
      "\u001b[0;31mValueError\u001b[0m: Error when checking input: expected input_1 to have shape (None, None, 3) but got array with shape (8, 25, 1)"
     ]
    }
   ],
   "source": [
    "features = model_vgg.predict(X_train_rs)\n",
    "print(features.shape)"
   ]
  },
  {
   "cell_type": "code",
   "execution_count": null,
   "id": "f0c18c70",
   "metadata": {},
   "outputs": [],
   "source": []
  }
 ],
 "metadata": {
  "kernelspec": {
   "display_name": "Tensorflow",
   "language": "python",
   "name": "tensorflow"
  },
  "language_info": {
   "codemirror_mode": {
    "name": "ipython",
    "version": 3
   },
   "file_extension": ".py",
   "mimetype": "text/x-python",
   "name": "python",
   "nbconvert_exporter": "python",
   "pygments_lexer": "ipython3",
   "version": "3.7.12"
  }
 },
 "nbformat": 4,
 "nbformat_minor": 5
}
